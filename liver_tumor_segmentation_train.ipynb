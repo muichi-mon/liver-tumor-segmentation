{
 "cells": [
  {
   "cell_type": "code",
   "execution_count": 1,
   "id": "2e08a9a5",
   "metadata": {
    "execution": {
     "iopub.execute_input": "2025-09-18T18:29:04.254843Z",
     "iopub.status.busy": "2025-09-18T18:29:04.254638Z",
     "iopub.status.idle": "2025-09-18T18:30:14.899037Z",
     "shell.execute_reply": "2025-09-18T18:30:14.898055Z"
    },
    "papermill": {
     "duration": 70.651577,
     "end_time": "2025-09-18T18:30:14.900330",
     "exception": false,
     "start_time": "2025-09-18T18:29:04.248753",
     "status": "completed"
    },
    "tags": []
   },
   "outputs": [
    {
     "name": "stdout",
     "output_type": "stream",
     "text": [
      "Collecting torchio\r\n",
      "  Downloading torchio-0.20.22-py3-none-any.whl.metadata (53 kB)\r\n",
      "\u001b[2K     \u001b[90m━━━━━━━━━━━━━━━━━━━━━━━━━━━━━━━━━━━━━━━━\u001b[0m \u001b[32m53.1/53.1 kB\u001b[0m \u001b[31m2.7 MB/s\u001b[0m eta \u001b[36m0:00:00\u001b[0m\r\n",
      "\u001b[?25hRequirement already satisfied: deprecated>=1.2 in /usr/local/lib/python3.11/dist-packages (from torchio) (1.2.18)\r\n",
      "Requirement already satisfied: einops>=0.3 in /usr/local/lib/python3.11/dist-packages (from torchio) (0.8.1)\r\n",
      "Requirement already satisfied: humanize>=0.1 in /usr/local/lib/python3.11/dist-packages (from torchio) (4.12.3)\r\n",
      "Requirement already satisfied: nibabel>=3 in /usr/local/lib/python3.11/dist-packages (from torchio) (5.3.2)\r\n",
      "Requirement already satisfied: numpy>=1.20 in /usr/local/lib/python3.11/dist-packages (from torchio) (1.26.4)\r\n",
      "Requirement already satisfied: packaging>=20 in /usr/local/lib/python3.11/dist-packages (from torchio) (25.0)\r\n",
      "Requirement already satisfied: rich>=10 in /usr/local/lib/python3.11/dist-packages (from torchio) (14.0.0)\r\n",
      "Requirement already satisfied: scipy>=1.7 in /usr/local/lib/python3.11/dist-packages (from torchio) (1.15.3)\r\n",
      "Requirement already satisfied: simpleitk!=2.0.*,!=2.1.1.1,>=1.3 in /usr/local/lib/python3.11/dist-packages (from torchio) (2.5.2)\r\n",
      "Requirement already satisfied: torch>=1.9 in /usr/local/lib/python3.11/dist-packages (from torchio) (2.6.0+cu124)\r\n",
      "Requirement already satisfied: tqdm>=4.40 in /usr/local/lib/python3.11/dist-packages (from torchio) (4.67.1)\r\n",
      "Requirement already satisfied: typer>=0.1 in /usr/local/lib/python3.11/dist-packages (from torchio) (0.16.0)\r\n",
      "Requirement already satisfied: wrapt<2,>=1.10 in /usr/local/lib/python3.11/dist-packages (from deprecated>=1.2->torchio) (1.17.2)\r\n",
      "Requirement already satisfied: importlib-resources>=5.12 in /usr/local/lib/python3.11/dist-packages (from nibabel>=3->torchio) (6.5.2)\r\n",
      "Requirement already satisfied: typing-extensions>=4.6 in /usr/local/lib/python3.11/dist-packages (from nibabel>=3->torchio) (4.14.0)\r\n",
      "Requirement already satisfied: mkl_fft in /usr/local/lib/python3.11/dist-packages (from numpy>=1.20->torchio) (1.3.8)\r\n",
      "Requirement already satisfied: mkl_random in /usr/local/lib/python3.11/dist-packages (from numpy>=1.20->torchio) (1.2.4)\r\n",
      "Requirement already satisfied: mkl_umath in /usr/local/lib/python3.11/dist-packages (from numpy>=1.20->torchio) (0.1.1)\r\n",
      "Requirement already satisfied: mkl in /usr/local/lib/python3.11/dist-packages (from numpy>=1.20->torchio) (2025.2.0)\r\n",
      "Requirement already satisfied: tbb4py in /usr/local/lib/python3.11/dist-packages (from numpy>=1.20->torchio) (2022.2.0)\r\n",
      "Requirement already satisfied: mkl-service in /usr/local/lib/python3.11/dist-packages (from numpy>=1.20->torchio) (2.4.1)\r\n",
      "Requirement already satisfied: markdown-it-py>=2.2.0 in /usr/local/lib/python3.11/dist-packages (from rich>=10->torchio) (3.0.0)\r\n",
      "Requirement already satisfied: pygments<3.0.0,>=2.13.0 in /usr/local/lib/python3.11/dist-packages (from rich>=10->torchio) (2.19.2)\r\n",
      "Requirement already satisfied: filelock in /usr/local/lib/python3.11/dist-packages (from torch>=1.9->torchio) (3.18.0)\r\n",
      "Requirement already satisfied: networkx in /usr/local/lib/python3.11/dist-packages (from torch>=1.9->torchio) (3.5)\r\n",
      "Requirement already satisfied: jinja2 in /usr/local/lib/python3.11/dist-packages (from torch>=1.9->torchio) (3.1.6)\r\n",
      "Requirement already satisfied: fsspec in /usr/local/lib/python3.11/dist-packages (from torch>=1.9->torchio) (2025.5.1)\r\n",
      "Collecting nvidia-cuda-nvrtc-cu12==12.4.127 (from torch>=1.9->torchio)\r\n",
      "  Downloading nvidia_cuda_nvrtc_cu12-12.4.127-py3-none-manylinux2014_x86_64.whl.metadata (1.5 kB)\r\n",
      "Collecting nvidia-cuda-runtime-cu12==12.4.127 (from torch>=1.9->torchio)\r\n",
      "  Downloading nvidia_cuda_runtime_cu12-12.4.127-py3-none-manylinux2014_x86_64.whl.metadata (1.5 kB)\r\n",
      "Collecting nvidia-cuda-cupti-cu12==12.4.127 (from torch>=1.9->torchio)\r\n",
      "  Downloading nvidia_cuda_cupti_cu12-12.4.127-py3-none-manylinux2014_x86_64.whl.metadata (1.6 kB)\r\n",
      "Collecting nvidia-cudnn-cu12==9.1.0.70 (from torch>=1.9->torchio)\r\n",
      "  Downloading nvidia_cudnn_cu12-9.1.0.70-py3-none-manylinux2014_x86_64.whl.metadata (1.6 kB)\r\n",
      "Collecting nvidia-cublas-cu12==12.4.5.8 (from torch>=1.9->torchio)\r\n",
      "  Downloading nvidia_cublas_cu12-12.4.5.8-py3-none-manylinux2014_x86_64.whl.metadata (1.5 kB)\r\n",
      "Collecting nvidia-cufft-cu12==11.2.1.3 (from torch>=1.9->torchio)\r\n",
      "  Downloading nvidia_cufft_cu12-11.2.1.3-py3-none-manylinux2014_x86_64.whl.metadata (1.5 kB)\r\n",
      "Collecting nvidia-curand-cu12==10.3.5.147 (from torch>=1.9->torchio)\r\n",
      "  Downloading nvidia_curand_cu12-10.3.5.147-py3-none-manylinux2014_x86_64.whl.metadata (1.5 kB)\r\n",
      "Collecting nvidia-cusolver-cu12==11.6.1.9 (from torch>=1.9->torchio)\r\n",
      "  Downloading nvidia_cusolver_cu12-11.6.1.9-py3-none-manylinux2014_x86_64.whl.metadata (1.6 kB)\r\n",
      "Collecting nvidia-cusparse-cu12==12.3.1.170 (from torch>=1.9->torchio)\r\n",
      "  Downloading nvidia_cusparse_cu12-12.3.1.170-py3-none-manylinux2014_x86_64.whl.metadata (1.6 kB)\r\n",
      "Requirement already satisfied: nvidia-cusparselt-cu12==0.6.2 in /usr/local/lib/python3.11/dist-packages (from torch>=1.9->torchio) (0.6.2)\r\n",
      "Requirement already satisfied: nvidia-nccl-cu12==2.21.5 in /usr/local/lib/python3.11/dist-packages (from torch>=1.9->torchio) (2.21.5)\r\n",
      "Requirement already satisfied: nvidia-nvtx-cu12==12.4.127 in /usr/local/lib/python3.11/dist-packages (from torch>=1.9->torchio) (12.4.127)\r\n",
      "Collecting nvidia-nvjitlink-cu12==12.4.127 (from torch>=1.9->torchio)\r\n",
      "  Downloading nvidia_nvjitlink_cu12-12.4.127-py3-none-manylinux2014_x86_64.whl.metadata (1.5 kB)\r\n",
      "Requirement already satisfied: triton==3.2.0 in /usr/local/lib/python3.11/dist-packages (from torch>=1.9->torchio) (3.2.0)\r\n",
      "Requirement already satisfied: sympy==1.13.1 in /usr/local/lib/python3.11/dist-packages (from torch>=1.9->torchio) (1.13.1)\r\n",
      "Requirement already satisfied: mpmath<1.4,>=1.1.0 in /usr/local/lib/python3.11/dist-packages (from sympy==1.13.1->torch>=1.9->torchio) (1.3.0)\r\n",
      "Requirement already satisfied: click>=8.0.0 in /usr/local/lib/python3.11/dist-packages (from typer>=0.1->torchio) (8.2.1)\r\n",
      "Requirement already satisfied: shellingham>=1.3.0 in /usr/local/lib/python3.11/dist-packages (from typer>=0.1->torchio) (1.5.4)\r\n",
      "Requirement already satisfied: mdurl~=0.1 in /usr/local/lib/python3.11/dist-packages (from markdown-it-py>=2.2.0->rich>=10->torchio) (0.1.2)\r\n",
      "Requirement already satisfied: MarkupSafe>=2.0 in /usr/local/lib/python3.11/dist-packages (from jinja2->torch>=1.9->torchio) (3.0.2)\r\n",
      "Requirement already satisfied: intel-openmp<2026,>=2024 in /usr/local/lib/python3.11/dist-packages (from mkl->numpy>=1.20->torchio) (2024.2.0)\r\n",
      "Requirement already satisfied: tbb==2022.* in /usr/local/lib/python3.11/dist-packages (from mkl->numpy>=1.20->torchio) (2022.2.0)\r\n",
      "Requirement already satisfied: tcmlib==1.* in /usr/local/lib/python3.11/dist-packages (from tbb==2022.*->mkl->numpy>=1.20->torchio) (1.4.0)\r\n",
      "Requirement already satisfied: intel-cmplr-lib-rt in /usr/local/lib/python3.11/dist-packages (from mkl_umath->numpy>=1.20->torchio) (2024.2.0)\r\n",
      "Requirement already satisfied: intel-cmplr-lib-ur==2024.2.0 in /usr/local/lib/python3.11/dist-packages (from intel-openmp<2026,>=2024->mkl->numpy>=1.20->torchio) (2024.2.0)\r\n",
      "Downloading torchio-0.20.22-py3-none-any.whl (194 kB)\r\n",
      "\u001b[2K   \u001b[90m━━━━━━━━━━━━━━━━━━━━━━━━━━━━━━━━━━━━━━━━\u001b[0m \u001b[32m194.1/194.1 kB\u001b[0m \u001b[31m9.6 MB/s\u001b[0m eta \u001b[36m0:00:00\u001b[0m\r\n",
      "\u001b[?25hDownloading nvidia_cublas_cu12-12.4.5.8-py3-none-manylinux2014_x86_64.whl (363.4 MB)\r\n",
      "\u001b[2K   \u001b[90m━━━━━━━━━━━━━━━━━━━━━━━━━━━━━━━━━━━━━━━━\u001b[0m \u001b[32m363.4/363.4 MB\u001b[0m \u001b[31m4.8 MB/s\u001b[0m eta \u001b[36m0:00:00\u001b[0m\r\n",
      "\u001b[?25hDownloading nvidia_cuda_cupti_cu12-12.4.127-py3-none-manylinux2014_x86_64.whl (13.8 MB)\r\n",
      "\u001b[2K   \u001b[90m━━━━━━━━━━━━━━━━━━━━━━━━━━━━━━━━━━━━━━━━\u001b[0m \u001b[32m13.8/13.8 MB\u001b[0m \u001b[31m107.4 MB/s\u001b[0m eta \u001b[36m0:00:00\u001b[0m\r\n",
      "\u001b[?25hDownloading nvidia_cuda_nvrtc_cu12-12.4.127-py3-none-manylinux2014_x86_64.whl (24.6 MB)\r\n",
      "\u001b[2K   \u001b[90m━━━━━━━━━━━━━━━━━━━━━━━━━━━━━━━━━━━━━━━━\u001b[0m \u001b[32m24.6/24.6 MB\u001b[0m \u001b[31m81.2 MB/s\u001b[0m eta \u001b[36m0:00:00\u001b[0m\r\n",
      "\u001b[?25hDownloading nvidia_cuda_runtime_cu12-12.4.127-py3-none-manylinux2014_x86_64.whl (883 kB)\r\n",
      "\u001b[2K   \u001b[90m━━━━━━━━━━━━━━━━━━━━━━━━━━━━━━━━━━━━━━━━\u001b[0m \u001b[32m883.7/883.7 kB\u001b[0m \u001b[31m47.9 MB/s\u001b[0m eta \u001b[36m0:00:00\u001b[0m\r\n",
      "\u001b[?25hDownloading nvidia_cudnn_cu12-9.1.0.70-py3-none-manylinux2014_x86_64.whl (664.8 MB)\r\n",
      "\u001b[2K   \u001b[90m━━━━━━━━━━━━━━━━━━━━━━━━━━━━━━━━━━━━━━━━\u001b[0m \u001b[32m664.8/664.8 MB\u001b[0m \u001b[31m2.6 MB/s\u001b[0m eta \u001b[36m0:00:00\u001b[0m\r\n",
      "\u001b[?25hDownloading nvidia_cufft_cu12-11.2.1.3-py3-none-manylinux2014_x86_64.whl (211.5 MB)\r\n",
      "\u001b[2K   \u001b[90m━━━━━━━━━━━━━━━━━━━━━━━━━━━━━━━━━━━━━━━━\u001b[0m \u001b[32m211.5/211.5 MB\u001b[0m \u001b[31m8.1 MB/s\u001b[0m eta \u001b[36m0:00:00\u001b[0m\r\n",
      "\u001b[?25hDownloading nvidia_curand_cu12-10.3.5.147-py3-none-manylinux2014_x86_64.whl (56.3 MB)\r\n",
      "\u001b[2K   \u001b[90m━━━━━━━━━━━━━━━━━━━━━━━━━━━━━━━━━━━━━━━━\u001b[0m \u001b[32m56.3/56.3 MB\u001b[0m \u001b[31m31.7 MB/s\u001b[0m eta \u001b[36m0:00:00\u001b[0m\r\n",
      "\u001b[?25hDownloading nvidia_cusolver_cu12-11.6.1.9-py3-none-manylinux2014_x86_64.whl (127.9 MB)\r\n",
      "\u001b[2K   \u001b[90m━━━━━━━━━━━━━━━━━━━━━━━━━━━━━━━━━━━━━━━━\u001b[0m \u001b[32m127.9/127.9 MB\u001b[0m \u001b[31m13.4 MB/s\u001b[0m eta \u001b[36m0:00:00\u001b[0m\r\n",
      "\u001b[?25hDownloading nvidia_cusparse_cu12-12.3.1.170-py3-none-manylinux2014_x86_64.whl (207.5 MB)\r\n",
      "\u001b[2K   \u001b[90m━━━━━━━━━━━━━━━━━━━━━━━━━━━━━━━━━━━━━━━━\u001b[0m \u001b[32m207.5/207.5 MB\u001b[0m \u001b[31m8.3 MB/s\u001b[0m eta \u001b[36m0:00:00\u001b[0m\r\n",
      "\u001b[?25hDownloading nvidia_nvjitlink_cu12-12.4.127-py3-none-manylinux2014_x86_64.whl (21.1 MB)\r\n",
      "\u001b[2K   \u001b[90m━━━━━━━━━━━━━━━━━━━━━━━━━━━━━━━━━━━━━━━━\u001b[0m \u001b[32m21.1/21.1 MB\u001b[0m \u001b[31m84.7 MB/s\u001b[0m eta \u001b[36m0:00:00\u001b[0m\r\n",
      "\u001b[?25hInstalling collected packages: nvidia-nvjitlink-cu12, nvidia-curand-cu12, nvidia-cufft-cu12, nvidia-cuda-runtime-cu12, nvidia-cuda-nvrtc-cu12, nvidia-cuda-cupti-cu12, nvidia-cublas-cu12, nvidia-cusparse-cu12, nvidia-cudnn-cu12, nvidia-cusolver-cu12, torchio\r\n",
      "  Attempting uninstall: nvidia-nvjitlink-cu12\r\n",
      "    Found existing installation: nvidia-nvjitlink-cu12 12.5.82\r\n",
      "    Uninstalling nvidia-nvjitlink-cu12-12.5.82:\r\n",
      "      Successfully uninstalled nvidia-nvjitlink-cu12-12.5.82\r\n",
      "  Attempting uninstall: nvidia-curand-cu12\r\n",
      "    Found existing installation: nvidia-curand-cu12 10.3.6.82\r\n",
      "    Uninstalling nvidia-curand-cu12-10.3.6.82:\r\n",
      "      Successfully uninstalled nvidia-curand-cu12-10.3.6.82\r\n",
      "  Attempting uninstall: nvidia-cufft-cu12\r\n",
      "    Found existing installation: nvidia-cufft-cu12 11.2.3.61\r\n",
      "    Uninstalling nvidia-cufft-cu12-11.2.3.61:\r\n",
      "      Successfully uninstalled nvidia-cufft-cu12-11.2.3.61\r\n",
      "  Attempting uninstall: nvidia-cuda-runtime-cu12\r\n",
      "    Found existing installation: nvidia-cuda-runtime-cu12 12.5.82\r\n",
      "    Uninstalling nvidia-cuda-runtime-cu12-12.5.82:\r\n",
      "      Successfully uninstalled nvidia-cuda-runtime-cu12-12.5.82\r\n",
      "  Attempting uninstall: nvidia-cuda-nvrtc-cu12\r\n",
      "    Found existing installation: nvidia-cuda-nvrtc-cu12 12.5.82\r\n",
      "    Uninstalling nvidia-cuda-nvrtc-cu12-12.5.82:\r\n",
      "      Successfully uninstalled nvidia-cuda-nvrtc-cu12-12.5.82\r\n",
      "  Attempting uninstall: nvidia-cuda-cupti-cu12\r\n",
      "    Found existing installation: nvidia-cuda-cupti-cu12 12.5.82\r\n",
      "    Uninstalling nvidia-cuda-cupti-cu12-12.5.82:\r\n",
      "      Successfully uninstalled nvidia-cuda-cupti-cu12-12.5.82\r\n",
      "  Attempting uninstall: nvidia-cublas-cu12\r\n",
      "    Found existing installation: nvidia-cublas-cu12 12.5.3.2\r\n",
      "    Uninstalling nvidia-cublas-cu12-12.5.3.2:\r\n",
      "      Successfully uninstalled nvidia-cublas-cu12-12.5.3.2\r\n",
      "  Attempting uninstall: nvidia-cusparse-cu12\r\n",
      "    Found existing installation: nvidia-cusparse-cu12 12.5.1.3\r\n",
      "    Uninstalling nvidia-cusparse-cu12-12.5.1.3:\r\n",
      "      Successfully uninstalled nvidia-cusparse-cu12-12.5.1.3\r\n",
      "  Attempting uninstall: nvidia-cudnn-cu12\r\n",
      "    Found existing installation: nvidia-cudnn-cu12 9.3.0.75\r\n",
      "    Uninstalling nvidia-cudnn-cu12-9.3.0.75:\r\n",
      "      Successfully uninstalled nvidia-cudnn-cu12-9.3.0.75\r\n",
      "  Attempting uninstall: nvidia-cusolver-cu12\r\n",
      "    Found existing installation: nvidia-cusolver-cu12 11.6.3.83\r\n",
      "    Uninstalling nvidia-cusolver-cu12-11.6.3.83:\r\n",
      "      Successfully uninstalled nvidia-cusolver-cu12-11.6.3.83\r\n",
      "Successfully installed nvidia-cublas-cu12-12.4.5.8 nvidia-cuda-cupti-cu12-12.4.127 nvidia-cuda-nvrtc-cu12-12.4.127 nvidia-cuda-runtime-cu12-12.4.127 nvidia-cudnn-cu12-9.1.0.70 nvidia-cufft-cu12-11.2.1.3 nvidia-curand-cu12-10.3.5.147 nvidia-cusolver-cu12-11.6.1.9 nvidia-cusparse-cu12-12.3.1.170 nvidia-nvjitlink-cu12-12.4.127 torchio-0.20.22\r\n",
      "Note: you may need to restart the kernel to use updated packages.\n"
     ]
    }
   ],
   "source": [
    "%pip install torchio"
   ]
  },
  {
   "cell_type": "markdown",
   "id": "cc1fc62d",
   "metadata": {
    "papermill": {
     "duration": 0.019295,
     "end_time": "2025-09-18T18:30:14.940365",
     "exception": false,
     "start_time": "2025-09-18T18:30:14.921070",
     "status": "completed"
    },
    "tags": []
   },
   "source": [
    "### imports"
   ]
  },
  {
   "cell_type": "code",
   "execution_count": 2,
   "id": "eb8657df",
   "metadata": {
    "execution": {
     "iopub.execute_input": "2025-09-18T18:30:14.980964Z",
     "iopub.status.busy": "2025-09-18T18:30:14.980708Z",
     "iopub.status.idle": "2025-09-18T18:30:31.459275Z",
     "shell.execute_reply": "2025-09-18T18:30:31.458667Z"
    },
    "papermill": {
     "duration": 16.500291,
     "end_time": "2025-09-18T18:30:31.460645",
     "exception": false,
     "start_time": "2025-09-18T18:30:14.960354",
     "status": "completed"
    },
    "tags": []
   },
   "outputs": [],
   "source": [
    "from pathlib import Path\n",
    "\n",
    "import torchio as tio # 3D - DataHandling (sampler/aggregator)\n",
    "import torch #\n",
    "import pytorch_lightning as pl # training/fit\n",
    "\n",
    "from pytorch_lightning.callbacks import ModelCheckpoint # Automatically saves your model during training.\n",
    "from pytorch_lightning.loggers import TensorBoardLogger # Sends training metrics to TensorBoard so you can visualize them."
   ]
  },
  {
   "cell_type": "code",
   "execution_count": 3,
   "id": "f1be9c89",
   "metadata": {
    "execution": {
     "iopub.execute_input": "2025-09-18T18:30:31.504147Z",
     "iopub.status.busy": "2025-09-18T18:30:31.503416Z",
     "iopub.status.idle": "2025-09-18T18:30:31.537673Z",
     "shell.execute_reply": "2025-09-18T18:30:31.537110Z"
    },
    "papermill": {
     "duration": 0.056437,
     "end_time": "2025-09-18T18:30:31.538771",
     "exception": false,
     "start_time": "2025-09-18T18:30:31.482334",
     "status": "completed"
    },
    "tags": []
   },
   "outputs": [],
   "source": [
    "import sys\n",
    "sys.path.append(\"/kaggle/input/updated-unet3d\")  # add directory to Python path\n",
    "\n",
    "from updated_unet3d import UNet  # import UNet from the file"
   ]
  },
  {
   "cell_type": "markdown",
   "id": "faf2427e",
   "metadata": {
    "papermill": {
     "duration": 0.020751,
     "end_time": "2025-09-18T18:30:31.580219",
     "exception": false,
     "start_time": "2025-09-18T18:30:31.559468",
     "status": "completed"
    },
    "tags": []
   },
   "source": [
    "### set paths"
   ]
  },
  {
   "cell_type": "code",
   "execution_count": 4,
   "id": "bc735d9e",
   "metadata": {
    "execution": {
     "iopub.execute_input": "2025-09-18T18:30:31.623686Z",
     "iopub.status.busy": "2025-09-18T18:30:31.623155Z",
     "iopub.status.idle": "2025-09-18T18:30:31.626752Z",
     "shell.execute_reply": "2025-09-18T18:30:31.626233Z"
    },
    "papermill": {
     "duration": 0.026355,
     "end_time": "2025-09-18T18:30:31.627796",
     "exception": false,
     "start_time": "2025-09-18T18:30:31.601441",
     "status": "completed"
    },
    "tags": []
   },
   "outputs": [],
   "source": [
    "train_path_1 = Path(\"/kaggle/input/liversegtrainimages1/\")\n",
    "train_path_2 = Path(\"/kaggle/input/liversegtrainimages2/\")\n",
    "\n",
    "val_path = Path(\"/kaggle/input/liversegtestimages/\")\n",
    "\n",
    "label_root = Path(\"/kaggle/input/liversegtrainlabels/\")"
   ]
  },
  {
   "cell_type": "code",
   "execution_count": 5,
   "id": "b2b262e5",
   "metadata": {
    "execution": {
     "iopub.execute_input": "2025-09-18T18:30:31.713761Z",
     "iopub.status.busy": "2025-09-18T18:30:31.713471Z",
     "iopub.status.idle": "2025-09-18T18:30:31.717417Z",
     "shell.execute_reply": "2025-09-18T18:30:31.716647Z"
    },
    "papermill": {
     "duration": 0.070513,
     "end_time": "2025-09-18T18:30:31.718945",
     "exception": false,
     "start_time": "2025-09-18T18:30:31.648432",
     "status": "completed"
    },
    "tags": []
   },
   "outputs": [],
   "source": [
    "def change_img_to_label_path(img_path: Path, label_root: Path = label_root) -> Path:\n",
    "    return label_root / img_path.name"
   ]
  },
  {
   "cell_type": "code",
   "execution_count": 6,
   "id": "d6403953",
   "metadata": {
    "execution": {
     "iopub.execute_input": "2025-09-18T18:30:31.767350Z",
     "iopub.status.busy": "2025-09-18T18:30:31.767030Z",
     "iopub.status.idle": "2025-09-18T18:30:31.804481Z",
     "shell.execute_reply": "2025-09-18T18:30:31.803640Z"
    },
    "papermill": {
     "duration": 0.063473,
     "end_time": "2025-09-18T18:30:31.805851",
     "exception": false,
     "start_time": "2025-09-18T18:30:31.742378",
     "status": "completed"
    },
    "tags": []
   },
   "outputs": [],
   "source": [
    "subject_path_list = list(train_path_1.glob(\"liver_*\"))\n",
    "subject_path_list.extend(train_path_2.glob(\"liver_*\"))"
   ]
  },
  {
   "cell_type": "code",
   "execution_count": 7,
   "id": "2e04ca2a",
   "metadata": {
    "execution": {
     "iopub.execute_input": "2025-09-18T18:30:31.853016Z",
     "iopub.status.busy": "2025-09-18T18:30:31.852753Z",
     "iopub.status.idle": "2025-09-18T18:30:31.858838Z",
     "shell.execute_reply": "2025-09-18T18:30:31.858016Z"
    },
    "papermill": {
     "duration": 0.031294,
     "end_time": "2025-09-18T18:30:31.860190",
     "exception": false,
     "start_time": "2025-09-18T18:30:31.828896",
     "status": "completed"
    },
    "tags": []
   },
   "outputs": [
    {
     "data": {
      "text/plain": [
       "'liver_50.nii'"
      ]
     },
     "execution_count": 7,
     "metadata": {},
     "output_type": "execute_result"
    }
   ],
   "source": [
    "subject_path_list[0].name"
   ]
  },
  {
   "cell_type": "code",
   "execution_count": 8,
   "id": "59112b13",
   "metadata": {
    "execution": {
     "iopub.execute_input": "2025-09-18T18:30:31.908821Z",
     "iopub.status.busy": "2025-09-18T18:30:31.908514Z",
     "iopub.status.idle": "2025-09-18T18:30:31.913494Z",
     "shell.execute_reply": "2025-09-18T18:30:31.912820Z"
    },
    "papermill": {
     "duration": 0.030938,
     "end_time": "2025-09-18T18:30:31.914683",
     "exception": false,
     "start_time": "2025-09-18T18:30:31.883745",
     "status": "completed"
    },
    "tags": []
   },
   "outputs": [
    {
     "data": {
      "text/plain": [
       "131"
      ]
     },
     "execution_count": 8,
     "metadata": {},
     "output_type": "execute_result"
    }
   ],
   "source": [
    "len(subject_path_list)"
   ]
  },
  {
   "cell_type": "code",
   "execution_count": 9,
   "id": "d3917106",
   "metadata": {
    "execution": {
     "iopub.execute_input": "2025-09-18T18:30:31.961065Z",
     "iopub.status.busy": "2025-09-18T18:30:31.960791Z",
     "iopub.status.idle": "2025-09-18T18:30:31.967348Z",
     "shell.execute_reply": "2025-09-18T18:30:31.966565Z"
    },
    "papermill": {
     "duration": 0.031216,
     "end_time": "2025-09-18T18:30:31.968638",
     "exception": false,
     "start_time": "2025-09-18T18:30:31.937422",
     "status": "completed"
    },
    "tags": []
   },
   "outputs": [
    {
     "data": {
      "text/plain": [
       "[PosixPath('/kaggle/input/liversegtrainimages1/liver_50.nii'),\n",
       " PosixPath('/kaggle/input/liversegtrainimages1/liver_9.nii'),\n",
       " PosixPath('/kaggle/input/liversegtrainimages1/liver_46.nii'),\n",
       " PosixPath('/kaggle/input/liversegtrainimages1/liver_90.nii'),\n",
       " PosixPath('/kaggle/input/liversegtrainimages1/liver_96.nii'),\n",
       " PosixPath('/kaggle/input/liversegtrainimages1/liver_97.nii'),\n",
       " PosixPath('/kaggle/input/liversegtrainimages1/liver_55.nii'),\n",
       " PosixPath('/kaggle/input/liversegtrainimages1/liver_4.nii'),\n",
       " PosixPath('/kaggle/input/liversegtrainimages1/liver_91.nii'),\n",
       " PosixPath('/kaggle/input/liversegtrainimages1/liver_38.nii'),\n",
       " PosixPath('/kaggle/input/liversegtrainimages1/liver_83.nii'),\n",
       " PosixPath('/kaggle/input/liversegtrainimages1/liver_7.nii'),\n",
       " PosixPath('/kaggle/input/liversegtrainimages1/liver_51.nii'),\n",
       " PosixPath('/kaggle/input/liversegtrainimages1/liver_81.nii'),\n",
       " PosixPath('/kaggle/input/liversegtrainimages1/liver_67.nii'),\n",
       " PosixPath('/kaggle/input/liversegtrainimages1/liver_39.nii'),\n",
       " PosixPath('/kaggle/input/liversegtrainimages1/liver_35.nii'),\n",
       " PosixPath('/kaggle/input/liversegtrainimages1/liver_43.nii'),\n",
       " PosixPath('/kaggle/input/liversegtrainimages1/liver_31.nii'),\n",
       " PosixPath('/kaggle/input/liversegtrainimages1/liver_8.nii'),\n",
       " PosixPath('/kaggle/input/liversegtrainimages1/liver_59.nii'),\n",
       " PosixPath('/kaggle/input/liversegtrainimages1/liver_6.nii'),\n",
       " PosixPath('/kaggle/input/liversegtrainimages1/liver_40.nii'),\n",
       " PosixPath('/kaggle/input/liversegtrainimages1/liver_92.nii'),\n",
       " PosixPath('/kaggle/input/liversegtrainimages1/liver_78.nii'),\n",
       " PosixPath('/kaggle/input/liversegtrainimages1/liver_85.nii'),\n",
       " PosixPath('/kaggle/input/liversegtrainimages1/liver_93.nii'),\n",
       " PosixPath('/kaggle/input/liversegtrainimages1/liver_76.nii'),\n",
       " PosixPath('/kaggle/input/liversegtrainimages1/liver_25.nii'),\n",
       " PosixPath('/kaggle/input/liversegtrainimages1/liver_94.nii'),\n",
       " PosixPath('/kaggle/input/liversegtrainimages1/liver_61.nii'),\n",
       " PosixPath('/kaggle/input/liversegtrainimages1/liver_32.nii'),\n",
       " PosixPath('/kaggle/input/liversegtrainimages1/liver_89.nii'),\n",
       " PosixPath('/kaggle/input/liversegtrainimages1/liver_53.nii'),\n",
       " PosixPath('/kaggle/input/liversegtrainimages1/liver_73.nii'),\n",
       " PosixPath('/kaggle/input/liversegtrainimages1/liver_30.nii'),\n",
       " PosixPath('/kaggle/input/liversegtrainimages1/liver_66.nii'),\n",
       " PosixPath('/kaggle/input/liversegtrainimages1/liver_34.nii'),\n",
       " PosixPath('/kaggle/input/liversegtrainimages1/liver_84.nii'),\n",
       " PosixPath('/kaggle/input/liversegtrainimages1/liver_64.nii'),\n",
       " PosixPath('/kaggle/input/liversegtrainimages1/liver_75.nii'),\n",
       " PosixPath('/kaggle/input/liversegtrainimages1/liver_63.nii'),\n",
       " PosixPath('/kaggle/input/liversegtrainimages1/liver_86.nii'),\n",
       " PosixPath('/kaggle/input/liversegtrainimages1/liver_49.nii'),\n",
       " PosixPath('/kaggle/input/liversegtrainimages1/liver_80.nii'),\n",
       " PosixPath('/kaggle/input/liversegtrainimages1/liver_68.nii'),\n",
       " PosixPath('/kaggle/input/liversegtrainimages1/liver_27.nii'),\n",
       " PosixPath('/kaggle/input/liversegtrainimages1/liver_72.nii'),\n",
       " PosixPath('/kaggle/input/liversegtrainimages1/liver_56.nii'),\n",
       " PosixPath('/kaggle/input/liversegtrainimages1/liver_22.nii'),\n",
       " PosixPath('/kaggle/input/liversegtrainimages1/liver_44.nii'),\n",
       " PosixPath('/kaggle/input/liversegtrainimages1/liver_87.nii'),\n",
       " PosixPath('/kaggle/input/liversegtrainimages1/liver_20.nii'),\n",
       " PosixPath('/kaggle/input/liversegtrainimages1/liver_23.nii'),\n",
       " PosixPath('/kaggle/input/liversegtrainimages1/liver_77.nii'),\n",
       " PosixPath('/kaggle/input/liversegtrainimages1/liver_54.nii'),\n",
       " PosixPath('/kaggle/input/liversegtrainimages1/liver_95.nii'),\n",
       " PosixPath('/kaggle/input/liversegtrainimages1/liver_69.nii'),\n",
       " PosixPath('/kaggle/input/liversegtrainimages1/liver_36.nii'),\n",
       " PosixPath('/kaggle/input/liversegtrainimages1/liver_26.nii'),\n",
       " PosixPath('/kaggle/input/liversegtrainimages1/liver_28.nii'),\n",
       " PosixPath('/kaggle/input/liversegtrainimages1/liver_99.nii'),\n",
       " PosixPath('/kaggle/input/liversegtrainimages1/liver_5.nii'),\n",
       " PosixPath('/kaggle/input/liversegtrainimages1/liver_48.nii'),\n",
       " PosixPath('/kaggle/input/liversegtrainimages1/liver_21.nii'),\n",
       " PosixPath('/kaggle/input/liversegtrainimages1/liver_42.nii'),\n",
       " PosixPath('/kaggle/input/liversegtrainimages1/liver_52.nii'),\n",
       " PosixPath('/kaggle/input/liversegtrainimages1/liver_29.nii'),\n",
       " PosixPath('/kaggle/input/liversegtrainimages1/liver_41.nii'),\n",
       " PosixPath('/kaggle/input/liversegtrainimages1/liver_88.nii'),\n",
       " PosixPath('/kaggle/input/liversegtrainimages1/liver_33.nii'),\n",
       " PosixPath('/kaggle/input/liversegtrainimages1/liver_57.nii'),\n",
       " PosixPath('/kaggle/input/liversegtrainimages1/liver_45.nii'),\n",
       " PosixPath('/kaggle/input/liversegtrainimages1/liver_24.nii'),\n",
       " PosixPath('/kaggle/input/liversegtrainimages1/liver_74.nii'),\n",
       " PosixPath('/kaggle/input/liversegtrainimages1/liver_71.nii'),\n",
       " PosixPath('/kaggle/input/liversegtrainimages1/liver_98.nii'),\n",
       " PosixPath('/kaggle/input/liversegtrainimages1/liver_58.nii'),\n",
       " PosixPath('/kaggle/input/liversegtrainimages1/liver_65.nii'),\n",
       " PosixPath('/kaggle/input/liversegtrainimages1/liver_2.nii'),\n",
       " PosixPath('/kaggle/input/liversegtrainimages1/liver_47.nii'),\n",
       " PosixPath('/kaggle/input/liversegtrainimages1/liver_62.nii'),\n",
       " PosixPath('/kaggle/input/liversegtrainimages1/liver_70.nii'),\n",
       " PosixPath('/kaggle/input/liversegtrainimages1/liver_60.nii'),\n",
       " PosixPath('/kaggle/input/liversegtrainimages1/liver_37.nii'),\n",
       " PosixPath('/kaggle/input/liversegtrainimages1/liver_82.nii'),\n",
       " PosixPath('/kaggle/input/liversegtrainimages1/liver_79.nii'),\n",
       " PosixPath('/kaggle/input/liversegtrainimages1/liver_3.nii'),\n",
       " PosixPath('/kaggle/input/liversegtrainimages2/liver_121.nii'),\n",
       " PosixPath('/kaggle/input/liversegtrainimages2/liver_128.nii'),\n",
       " PosixPath('/kaggle/input/liversegtrainimages2/liver_116.nii'),\n",
       " PosixPath('/kaggle/input/liversegtrainimages2/liver_117.nii'),\n",
       " PosixPath('/kaggle/input/liversegtrainimages2/liver_104.nii'),\n",
       " PosixPath('/kaggle/input/liversegtrainimages2/liver_118.nii'),\n",
       " PosixPath('/kaggle/input/liversegtrainimages2/liver_120.nii'),\n",
       " PosixPath('/kaggle/input/liversegtrainimages2/liver_107.nii'),\n",
       " PosixPath('/kaggle/input/liversegtrainimages2/liver_0.nii'),\n",
       " PosixPath('/kaggle/input/liversegtrainimages2/liver_109.nii'),\n",
       " PosixPath('/kaggle/input/liversegtrainimages2/liver_112.nii'),\n",
       " PosixPath('/kaggle/input/liversegtrainimages2/liver_105.nii'),\n",
       " PosixPath('/kaggle/input/liversegtrainimages2/liver_125.nii'),\n",
       " PosixPath('/kaggle/input/liversegtrainimages2/liver_19.nii'),\n",
       " PosixPath('/kaggle/input/liversegtrainimages2/liver_16.nii'),\n",
       " PosixPath('/kaggle/input/liversegtrainimages2/liver_102.nii'),\n",
       " PosixPath('/kaggle/input/liversegtrainimages2/liver_101.nii'),\n",
       " PosixPath('/kaggle/input/liversegtrainimages2/liver_17.nii'),\n",
       " PosixPath('/kaggle/input/liversegtrainimages2/liver_111.nii'),\n",
       " PosixPath('/kaggle/input/liversegtrainimages2/liver_103.nii'),\n",
       " PosixPath('/kaggle/input/liversegtrainimages2/liver_12.nii'),\n",
       " PosixPath('/kaggle/input/liversegtrainimages2/liver_110.nii'),\n",
       " PosixPath('/kaggle/input/liversegtrainimages2/liver_15.nii'),\n",
       " PosixPath('/kaggle/input/liversegtrainimages2/liver_127.nii'),\n",
       " PosixPath('/kaggle/input/liversegtrainimages2/liver_113.nii'),\n",
       " PosixPath('/kaggle/input/liversegtrainimages2/liver_108.nii'),\n",
       " PosixPath('/kaggle/input/liversegtrainimages2/liver_18.nii'),\n",
       " PosixPath('/kaggle/input/liversegtrainimages2/liver_11.nii'),\n",
       " PosixPath('/kaggle/input/liversegtrainimages2/liver_124.nii'),\n",
       " PosixPath('/kaggle/input/liversegtrainimages2/liver_13.nii'),\n",
       " PosixPath('/kaggle/input/liversegtrainimages2/liver_119.nii'),\n",
       " PosixPath('/kaggle/input/liversegtrainimages2/liver_129.nii'),\n",
       " PosixPath('/kaggle/input/liversegtrainimages2/liver_14.nii'),\n",
       " PosixPath('/kaggle/input/liversegtrainimages2/liver_114.nii'),\n",
       " PosixPath('/kaggle/input/liversegtrainimages2/liver_126.nii'),\n",
       " PosixPath('/kaggle/input/liversegtrainimages2/liver_122.nii'),\n",
       " PosixPath('/kaggle/input/liversegtrainimages2/liver_1.nii'),\n",
       " PosixPath('/kaggle/input/liversegtrainimages2/liver_10.nii'),\n",
       " PosixPath('/kaggle/input/liversegtrainimages2/liver_123.nii'),\n",
       " PosixPath('/kaggle/input/liversegtrainimages2/liver_130.nii'),\n",
       " PosixPath('/kaggle/input/liversegtrainimages2/liver_115.nii'),\n",
       " PosixPath('/kaggle/input/liversegtrainimages2/liver_106.nii'),\n",
       " PosixPath('/kaggle/input/liversegtrainimages2/liver_100.nii')]"
      ]
     },
     "execution_count": 9,
     "metadata": {},
     "output_type": "execute_result"
    }
   ],
   "source": [
    "subject_path_list"
   ]
  },
  {
   "cell_type": "markdown",
   "id": "3a7a69a1",
   "metadata": {
    "papermill": {
     "duration": 0.022148,
     "end_time": "2025-09-18T18:30:32.014052",
     "exception": false,
     "start_time": "2025-09-18T18:30:31.991904",
     "status": "completed"
    },
    "tags": []
   },
   "source": [
    "### create subjects"
   ]
  },
  {
   "cell_type": "code",
   "execution_count": 10,
   "id": "df279b88",
   "metadata": {
    "execution": {
     "iopub.execute_input": "2025-09-18T18:30:32.059629Z",
     "iopub.status.busy": "2025-09-18T18:30:32.058778Z",
     "iopub.status.idle": "2025-09-18T18:30:32.770274Z",
     "shell.execute_reply": "2025-09-18T18:30:32.769421Z"
    },
    "papermill": {
     "duration": 0.736284,
     "end_time": "2025-09-18T18:30:32.771824",
     "exception": false,
     "start_time": "2025-09-18T18:30:32.035540",
     "status": "completed"
    },
    "tags": []
   },
   "outputs": [],
   "source": [
    "subjects = []\n",
    "\n",
    "for subject_path in subject_path_list:\n",
    "    label_path = change_img_to_label_path(subject_path)\n",
    "\n",
    "    # sanity check\n",
    "    if isinstance(subject_path, dict):\n",
    "        raise TypeError(f\"subject_path is a dictionary! {subject_path}\")\n",
    "    if isinstance(label_path, dict):\n",
    "        raise TypeError(f\"label_path is a dictionary! {label_path}\")\n",
    "\n",
    "    subject = tio.Subject(\n",
    "        CT=tio.ScalarImage(subject_path),  # lazy load\n",
    "        Label=tio.LabelMap(label_path)     # lazy load\n",
    "    )\n",
    "    \n",
    "    subjects.append(subject)"
   ]
  },
  {
   "cell_type": "code",
   "execution_count": 11,
   "id": "2e5fa4e3",
   "metadata": {
    "execution": {
     "iopub.execute_input": "2025-09-18T18:30:32.817652Z",
     "iopub.status.busy": "2025-09-18T18:30:32.817349Z",
     "iopub.status.idle": "2025-09-18T18:30:33.033204Z",
     "shell.execute_reply": "2025-09-18T18:30:33.032291Z"
    },
    "papermill": {
     "duration": 0.239987,
     "end_time": "2025-09-18T18:30:33.034539",
     "exception": false,
     "start_time": "2025-09-18T18:30:32.794552",
     "status": "completed"
    },
    "tags": []
   },
   "outputs": [
    {
     "name": "stdout",
     "output_type": "stream",
     "text": [
      "<class 'torchio.data.image.ScalarImage'> ScalarImage(shape: (1, 512, 512, 240); spacing: (0.91, 0.91, 2.50); orientation: RAS+; path: \"/kaggle/input/liversegtrainimages1/liver_50.nii\")\n",
      "<class 'torchio.data.image.LabelMap'> LabelMap(shape: (1, 512, 512, 240); spacing: (0.91, 0.91, 2.50); orientation: RAS+; path: \"/kaggle/input/liversegtrainlabels/liver_50.nii\")\n"
     ]
    }
   ],
   "source": [
    "print(type(subjects[0][\"CT\"]), subjects[0][\"CT\"])\n",
    "print(type(subjects[0][\"Label\"]), subjects[0][\"Label\"])"
   ]
  },
  {
   "cell_type": "code",
   "execution_count": 12,
   "id": "09ea70b0",
   "metadata": {
    "execution": {
     "iopub.execute_input": "2025-09-18T18:30:33.078469Z",
     "iopub.status.busy": "2025-09-18T18:30:33.078183Z",
     "iopub.status.idle": "2025-09-18T18:30:40.919271Z",
     "shell.execute_reply": "2025-09-18T18:30:40.918615Z"
    },
    "papermill": {
     "duration": 7.864672,
     "end_time": "2025-09-18T18:30:40.920750",
     "exception": false,
     "start_time": "2025-09-18T18:30:33.056078",
     "status": "completed"
    },
    "tags": []
   },
   "outputs": [],
   "source": [
    "import torchio as tio\n",
    "\n",
    "for subject in subjects:\n",
    "    # Check orientation\n",
    "    assert subject[\"CT\"].orientation == (\"R\", \"A\", \"S\"), \\\n",
    "        f\"CT orientation is wrong for subject: {subject}\"\n",
    "\n",
    "    # Check that CT is a ScalarImage\n",
    "    assert isinstance(subject[\"CT\"], tio.ScalarImage), \\\n",
    "        f\"CT is not a ScalarImage for subject: {subject}\"\n",
    "\n",
    "    # Check that Label is a LabelMap\n",
    "    assert isinstance(subject[\"Label\"], tio.LabelMap), \\\n",
    "        f\"Label is not a LabelMap for subject: {subject}\"\n"
   ]
  },
  {
   "cell_type": "markdown",
   "id": "d9393460",
   "metadata": {
    "papermill": {
     "duration": 0.020244,
     "end_time": "2025-09-18T18:30:40.962313",
     "exception": false,
     "start_time": "2025-09-18T18:30:40.942069",
     "status": "completed"
    },
    "tags": []
   },
   "source": [
    "### set augmentation pipeline for transform\n",
    "- applied when creating datasets"
   ]
  },
  {
   "cell_type": "code",
   "execution_count": 13,
   "id": "9f962bcc",
   "metadata": {
    "execution": {
     "iopub.execute_input": "2025-09-18T18:30:41.005057Z",
     "iopub.status.busy": "2025-09-18T18:30:41.004622Z",
     "iopub.status.idle": "2025-09-18T18:30:41.009453Z",
     "shell.execute_reply": "2025-09-18T18:30:41.008702Z"
    },
    "papermill": {
     "duration": 0.027491,
     "end_time": "2025-09-18T18:30:41.010670",
     "exception": false,
     "start_time": "2025-09-18T18:30:40.983179",
     "status": "completed"
    },
    "tags": []
   },
   "outputs": [],
   "source": [
    "process = tio.Compose([                                 # Deterministic: Things inside Compose happen the same way every time you call it.\n",
    "    tio.ToCanonical(),                     # step 1: fix orientation\n",
    "    tio.Resample(target = 'CT'),                         # step 2: align all images to same grid\n",
    "    tio.RescaleIntensity((-1, 1)),          # step 3: normalize intensity\n",
    "    tio.CropOrPad((256, 256, 200)),         # step 4: now safe to crop/pad\n",
    "])\n",
    "\n",
    "augmentation = tio.RandomAffine(scales=(0.9, 1.1), degrees=(-10, 10)) # Stocastic(Random): Every time you apply it, the result changes slightly.\n",
    "\n",
    "# OR: Combine both\n",
    "# pipeline = tio.Compose([\n",
    "#     tio.RescaleIntensity((-1, 1)),\n",
    "#     tio.CropOrPad((256, 256, 200)),\n",
    "#     tio.RandomAffine(scales=(0.9, 1.1), degrees=(-10, 10))\n",
    "# ])\n",
    "\n",
    "train_transform = tio.Compose([process, augmentation]) # equivalent to transforms.Compose in torchVision\n",
    "val_transform = process"
   ]
  },
  {
   "cell_type": "markdown",
   "id": "2ae58b99",
   "metadata": {
    "papermill": {
     "duration": 0.020354,
     "end_time": "2025-09-18T18:30:41.051693",
     "exception": false,
     "start_time": "2025-09-18T18:30:41.031339",
     "status": "completed"
    },
    "tags": []
   },
   "source": [
    "### create datasets in torchio"
   ]
  },
  {
   "cell_type": "markdown",
   "id": "ca1b0f42",
   "metadata": {
    "papermill": {
     "duration": 0.021036,
     "end_time": "2025-09-18T18:30:41.093025",
     "exception": false,
     "start_time": "2025-09-18T18:30:41.071989",
     "status": "completed"
    },
    "tags": []
   },
   "source": [
    "### 1️⃣ Why smaller patches speed up training\n",
    "\n",
    "#### Less memory usage\n",
    "Smaller patches mean fewer voxels per batch. This allows:\n",
    "\n",
    "- Larger batch sizes\n",
    "- Fewer out-of-memory errors on the GPU\n",
    "\n",
    "#### Fewer computations\n",
    "Neural networks (especially 3D CNNs) scale roughly with the **number of voxels in the input**.\n",
    "\n",
    "- Example:  \n",
    "  - A `96³` patch has `884,736` voxels (`96×96×96`)  \n",
    "  - A `64³` patch has `262,144` voxels → ~3.3× fewer voxels → faster forward/backward passes\n",
    "\n",
    "#### Faster data loading\n",
    "Smaller patches take less disk I/O and less augmentation processing time.\n",
    "\n",
    "---\n",
    "\n",
    "### 2️⃣ Trade-offs of smaller patches\n",
    "\n",
    "#### Less context\n",
    "Smaller patches capture **less of the surrounding anatomy**, which can hurt network performance for tasks where context matters (e.g., organ segmentation).\n",
    "\n",
    "#### More patches per volume needed\n",
    "To cover the same volume or ensure all labels are seen, you may need to sample **more patches per epoch**, which can reduce some of the speed gains.\n",
    "\n",
    "#### Potential edge effects\n",
    "Very small patches can cut off important structures, leading to more **boundary artifacts** during training.\n",
    "\n",
    "---\n",
    "\n",
    "### 3️⃣ Practical guidelines\n",
    "\n",
    "- For 3D medical images:\n",
    "  - Patch sizes around `64³` to `128³` are common.  \n",
    "  - Larger patches (`128³–256³`) give more context but are slower.  \n",
    "  - Smaller patches (`32³–64³`) are fast but may lose anatomical context.\n",
    "\n",
    "- A good strategy:\n",
    "  1. Start with a patch size that fits your **GPU comfortably**.  \n",
    "  2. Use **data augmentation** to increase diversity.  \n",
    "  3. Experiment to find the best trade-off between **accuracy** and **training speed**."
   ]
  },
  {
   "cell_type": "code",
   "execution_count": 14,
   "id": "86f87878",
   "metadata": {
    "execution": {
     "iopub.execute_input": "2025-09-18T18:30:41.137215Z",
     "iopub.status.busy": "2025-09-18T18:30:41.136943Z",
     "iopub.status.idle": "2025-09-18T18:30:41.141311Z",
     "shell.execute_reply": "2025-09-18T18:30:41.140778Z"
    },
    "papermill": {
     "duration": 0.027661,
     "end_time": "2025-09-18T18:30:41.142428",
     "exception": false,
     "start_time": "2025-09-18T18:30:41.114767",
     "status": "completed"
    },
    "tags": []
   },
   "outputs": [],
   "source": [
    "train_dataset = tio.SubjectsDataset(subjects[:105], transform = train_transform) # subjects[:105] → first 105 subjects for training.\n",
    "val_dataset = tio.SubjectsDataset(subjects[105:], transform = val_transform) # subjects[105:] → remaining subjects for validation.\n",
    "\n",
    "sampler = tio.data.LabelSampler(\n",
    "    patch_size = 96, # Size of the cubic patch to sample (here 96×96×96 voxels).\n",
    "    label_name = 'Label', # The sampler uses this to find where each class is in the volume.\n",
    "    label_probabilities = {0:0.2, 1:0.3, 2:0.5}\n",
    ")"
   ]
  },
  {
   "cell_type": "markdown",
   "id": "6b342c23",
   "metadata": {
    "papermill": {
     "duration": 0.021194,
     "end_time": "2025-09-18T18:30:41.185070",
     "exception": false,
     "start_time": "2025-09-18T18:30:41.163876",
     "status": "completed"
    },
    "tags": []
   },
   "source": [
    "Controls how often patches are centered on each label class.\n",
    "\n",
    "- Class 0 → 20% of patches\n",
    "- Class 1 → 30% of patches\n",
    "- Class 2 → 50% of patches\n",
    "\n",
    "Useful when some labels are rare — ensures your network sees enough examples of each class."
   ]
  },
  {
   "cell_type": "code",
   "execution_count": 15,
   "id": "8499624a",
   "metadata": {
    "execution": {
     "iopub.execute_input": "2025-09-18T18:30:41.228772Z",
     "iopub.status.busy": "2025-09-18T18:30:41.228553Z",
     "iopub.status.idle": "2025-09-18T18:30:41.332568Z",
     "shell.execute_reply": "2025-09-18T18:30:41.330717Z"
    },
    "papermill": {
     "duration": 0.128549,
     "end_time": "2025-09-18T18:30:41.335237",
     "exception": false,
     "start_time": "2025-09-18T18:30:41.206688",
     "status": "completed"
    },
    "tags": []
   },
   "outputs": [],
   "source": [
    "train_patches_queue = tio.Queue(\n",
    "    train_dataset,\n",
    "    max_length=40,           # Maximum number of patches stored in the queue at any given time. \n",
    "    samples_per_volume=4,    # Number of patches sampled per subject per epoch.\n",
    "    sampler=sampler,\n",
    "    num_workers=2            # how many CPU processes are used to sample and apply transformations to patches.\n",
    ")\n",
    "\n",
    "val_patches_queue = tio.Queue(\n",
    "    val_dataset,\n",
    "    max_length=40,           # Smaller queue → less RAM used, but may increase CPU/GPU waiting if patches are generated on-the-fly.\n",
    "    samples_per_volume=4,    # Reducing it (fewer patches per volume) → faster queue filling\n",
    "    sampler=sampler,\n",
    "    num_workers=2            # higher num_workers → faster patch preparation → GPU waits less. but more RAM usage\n",
    ")"
   ]
  },
  {
   "cell_type": "markdown",
   "id": "cb9a9f1c",
   "metadata": {
    "papermill": {
     "duration": 0.030686,
     "end_time": "2025-09-18T18:30:41.398281",
     "exception": false,
     "start_time": "2025-09-18T18:30:41.367595",
     "status": "completed"
    },
    "tags": []
   },
   "source": [
    "Original volumes (CPU)\n",
    "        **>**\n",
    "tio.Queue (CPU RAM) (patches are stored here)\n",
    "        **>**\n",
    "Batch sent to GPU (forward/backward pass)\n",
    "        **>**\n",
    "Next batch sent from CPU → GPU"
   ]
  },
  {
   "cell_type": "markdown",
   "id": "46996281",
   "metadata": {
    "papermill": {
     "duration": 0.028158,
     "end_time": "2025-09-18T18:30:41.460389",
     "exception": false,
     "start_time": "2025-09-18T18:30:41.432231",
     "status": "completed"
    },
    "tags": []
   },
   "source": [
    "| Parameter                | What it does                            | Memory impact                             | Importance                     |\n",
    "| ------------------------ | --------------------------------------- | ----------------------------------------- | ------------------------------ |\n",
    "| `Queue num_workers`      | Parallel patch sampling + augmentation  | High (each worker generates patches)      | Critical for GPU utilization   |\n",
    "| `DataLoader num_workers` | Parallel fetching of batches from queue | Low (just retrieves preprocessed patches) | Optional for queue-based setup |"
   ]
  },
  {
   "cell_type": "code",
   "execution_count": 16,
   "id": "2eb55f6c",
   "metadata": {
    "execution": {
     "iopub.execute_input": "2025-09-18T18:30:41.518567Z",
     "iopub.status.busy": "2025-09-18T18:30:41.517654Z",
     "iopub.status.idle": "2025-09-18T18:30:41.524606Z",
     "shell.execute_reply": "2025-09-18T18:30:41.523960Z"
    },
    "papermill": {
     "duration": 0.039606,
     "end_time": "2025-09-18T18:30:41.525649",
     "exception": false,
     "start_time": "2025-09-18T18:30:41.486043",
     "status": "completed"
    },
    "tags": []
   },
   "outputs": [],
   "source": [
    "def subject_to_tensor(batch):\n",
    "    \"\"\"\n",
    "    Convert a list of TorchIO Subjects into a dict of batched tensors.\n",
    "    \"\"\"\n",
    "    ct_list = []\n",
    "    label_list = []\n",
    "\n",
    "    for subject in batch:  # batch is a list of Subjects\n",
    "        ct_list.append(subject['CT'].data)\n",
    "        label_list.append(subject['Label'].data)\n",
    "\n",
    "    # Stack along a new batch dimension\n",
    "    return {\n",
    "        'CT': torch.stack(ct_list, dim=0),\n",
    "        'Label': torch.stack(label_list, dim=0)\n",
    "    }"
   ]
  },
  {
   "cell_type": "code",
   "execution_count": 17,
   "id": "ddb746f5",
   "metadata": {
    "execution": {
     "iopub.execute_input": "2025-09-18T18:30:41.578614Z",
     "iopub.status.busy": "2025-09-18T18:30:41.578353Z",
     "iopub.status.idle": "2025-09-18T18:30:41.584920Z",
     "shell.execute_reply": "2025-09-18T18:30:41.584298Z"
    },
    "papermill": {
     "duration": 0.03476,
     "end_time": "2025-09-18T18:30:41.586226",
     "exception": false,
     "start_time": "2025-09-18T18:30:41.551466",
     "status": "completed"
    },
    "tags": []
   },
   "outputs": [],
   "source": [
    "train_loader = torch.utils.data.DataLoader(\n",
    "    train_patches_queue,  \n",
    "    batch_size=2,            \n",
    "    num_workers=0,\n",
    "    collate_fn=subject_to_tensor\n",
    ")\n",
    "\n",
    "val_loader = torch.utils.data.DataLoader(\n",
    "    val_patches_queue, \n",
    "    batch_size=2,\n",
    "    num_workers=0,\n",
    "    collate_fn=subject_to_tensor\n",
    ")"
   ]
  },
  {
   "cell_type": "markdown",
   "id": "bf09a0f5",
   "metadata": {
    "papermill": {
     "duration": 0.028427,
     "end_time": "2025-09-18T18:30:41.645276",
     "exception": false,
     "start_time": "2025-09-18T18:30:41.616849",
     "status": "completed"
    },
    "tags": []
   },
   "source": [
    "| Parameter            | Memory impact                           |\n",
    "| -------------------- | --------------------------------------- |\n",
    "| `samples_per_volume` | CPU RAM (more patches in queue)         |\n",
    "| `batch_size`         | GPU memory (number of patches per step) |\n",
    "| `patch_size`         | Both CPU (queue) and GPU (batch)        |"
   ]
  },
  {
   "cell_type": "code",
   "execution_count": 18,
   "id": "b6c7c003",
   "metadata": {
    "execution": {
     "iopub.execute_input": "2025-09-18T18:30:41.700416Z",
     "iopub.status.busy": "2025-09-18T18:30:41.700028Z",
     "iopub.status.idle": "2025-09-18T18:32:46.467639Z",
     "shell.execute_reply": "2025-09-18T18:32:46.466935Z"
    },
    "papermill": {
     "duration": 124.821538,
     "end_time": "2025-09-18T18:32:46.495331",
     "exception": false,
     "start_time": "2025-09-18T18:30:41.673793",
     "status": "completed"
    },
    "tags": []
   },
   "outputs": [
    {
     "name": "stdout",
     "output_type": "stream",
     "text": [
      "<class 'dict'>\n"
     ]
    }
   ],
   "source": [
    "batch = next(iter(train_loader))\n",
    "print(type(batch))  # should be a dict of torch.Tensor batches"
   ]
  },
  {
   "cell_type": "code",
   "execution_count": 19,
   "id": "3deba743",
   "metadata": {
    "execution": {
     "iopub.execute_input": "2025-09-18T18:32:46.550744Z",
     "iopub.status.busy": "2025-09-18T18:32:46.550330Z",
     "iopub.status.idle": "2025-09-18T18:32:46.558396Z",
     "shell.execute_reply": "2025-09-18T18:32:46.557683Z"
    },
    "papermill": {
     "duration": 0.037197,
     "end_time": "2025-09-18T18:32:46.559617",
     "exception": false,
     "start_time": "2025-09-18T18:32:46.522420",
     "status": "completed"
    },
    "tags": []
   },
   "outputs": [],
   "source": [
    "class Segmenter(pl.LightningModule):\n",
    "\n",
    "    def __init__(self):\n",
    "        super().__init__()\n",
    "\n",
    "        self.model = UNet()\n",
    "        self.optimizer = torch.optim.Adam(self.model.parameters(), lr = 1e-4)\n",
    "        self.loss_fn = torch.nn.CrossEntropyLoss()\n",
    "\n",
    "    def forward(self, data):\n",
    "\n",
    "        return self.model(data)\n",
    "\n",
    "    def training_step(self, batch, batch_idx):\n",
    "        img = batch[\"CT\"]  # [\"data\"] already a tensor\n",
    "        mask = batch[\"Label\"][:, 0]  # remove channel dim\n",
    "        mask = mask.long()\n",
    "        \n",
    "        pred = self(img)\n",
    "        loss = self.loss_fn(pred, mask)\n",
    "        \n",
    "        self.log(\"Train Loss\", loss)    # you could add on_step=False, on_epoch=True to log once per epoch.\n",
    "        return loss\n",
    "\n",
    "    def validation_step(self, batch, batch_idx):\n",
    "        img = batch[\"CT\"]  # [\"data\"]already a tensor\n",
    "        mask = batch[\"Label\"][:, 0]  # remove channel dim\n",
    "        mask = mask.long()\n",
    "        \n",
    "        pred = self(img)\n",
    "        loss = self.loss_fn(pred, mask)\n",
    "        \n",
    "        self.log(\"Val Loss\", loss)\n",
    "        return loss\n",
    "\n",
    "    def configure_optimizers(self):\n",
    "        return [self.optimizer]"
   ]
  },
  {
   "cell_type": "code",
   "execution_count": 20,
   "id": "29bee012",
   "metadata": {
    "execution": {
     "iopub.execute_input": "2025-09-18T18:32:46.612494Z",
     "iopub.status.busy": "2025-09-18T18:32:46.612186Z",
     "iopub.status.idle": "2025-09-18T18:32:46.663642Z",
     "shell.execute_reply": "2025-09-18T18:32:46.662777Z"
    },
    "papermill": {
     "duration": 0.078837,
     "end_time": "2025-09-18T18:32:46.665428",
     "exception": false,
     "start_time": "2025-09-18T18:32:46.586591",
     "status": "completed"
    },
    "tags": []
   },
   "outputs": [],
   "source": [
    "model = Segmenter()"
   ]
  },
  {
   "cell_type": "code",
   "execution_count": 21,
   "id": "cdfe651f",
   "metadata": {
    "execution": {
     "iopub.execute_input": "2025-09-18T18:32:46.731608Z",
     "iopub.status.busy": "2025-09-18T18:32:46.731326Z",
     "iopub.status.idle": "2025-09-18T18:32:46.754847Z",
     "shell.execute_reply": "2025-09-18T18:32:46.754005Z"
    },
    "papermill": {
     "duration": 0.053585,
     "end_time": "2025-09-18T18:32:46.756213",
     "exception": false,
     "start_time": "2025-09-18T18:32:46.702628",
     "status": "completed"
    },
    "tags": []
   },
   "outputs": [],
   "source": [
    "checkpoint_callback = ModelCheckpoint(monitor = \"Val Loss\", save_top_k = 10, mode = \"min\")"
   ]
  },
  {
   "cell_type": "markdown",
   "id": "ad266ca9",
   "metadata": {
    "papermill": {
     "duration": 0.023857,
     "end_time": "2025-09-18T18:32:46.805131",
     "exception": false,
     "start_time": "2025-09-18T18:32:46.781274",
     "status": "completed"
    },
    "tags": []
   },
   "source": [
    "With mode=\"min\" and save_top_k=3:\n",
    "\n",
    "- Epoch 1 → 0.50 → saved (top 1)\n",
    "\n",
    "- Epoch 2 → 0.48 → saved (top 2)\n",
    "\n",
    "- Epoch 3 → 0.52 → not saved (higher than current top 2)\n",
    "\n",
    "- Epoch 4 → 0.46 → saved (top 3, now top losses: 0.46, 0.48, 0.50)\n",
    "\n",
    "- Epoch 5 → 0.49 → replaces worst in top 3? Depends on save_top_k logic; it may replace 0.50\n",
    "\n",
    "✅ Key point: Lightning keeps the"
   ]
  },
  {
   "cell_type": "code",
   "execution_count": 22,
   "id": "6c416726",
   "metadata": {
    "execution": {
     "iopub.execute_input": "2025-09-18T18:32:46.855130Z",
     "iopub.status.busy": "2025-09-18T18:32:46.854415Z",
     "iopub.status.idle": "2025-09-18T18:32:46.954738Z",
     "shell.execute_reply": "2025-09-18T18:32:46.953872Z"
    },
    "papermill": {
     "duration": 0.129511,
     "end_time": "2025-09-18T18:32:46.956750",
     "exception": false,
     "start_time": "2025-09-18T18:32:46.827239",
     "status": "completed"
    },
    "tags": []
   },
   "outputs": [],
   "source": [
    "trainer = pl.Trainer(\n",
    "    accelerator=\"auto\",\n",
    "    devices=\"auto\",\n",
    "    logger=TensorBoardLogger(save_dir=\"logs\"),\n",
    "    log_every_n_steps=10,\n",
    "    callbacks=checkpoint_callback,\n",
    "    max_epochs=10\n",
    "    # precision=\"16-mixed\"\n",
    ")"
   ]
  },
  {
   "cell_type": "code",
   "execution_count": 23,
   "id": "ead59716",
   "metadata": {
    "execution": {
     "iopub.execute_input": "2025-09-18T18:32:47.036302Z",
     "iopub.status.busy": "2025-09-18T18:32:47.036001Z",
     "iopub.status.idle": "2025-09-18T18:32:47.039441Z",
     "shell.execute_reply": "2025-09-18T18:32:47.038764Z"
    },
    "papermill": {
     "duration": 0.044073,
     "end_time": "2025-09-18T18:32:47.040773",
     "exception": false,
     "start_time": "2025-09-18T18:32:46.996700",
     "status": "completed"
    },
    "tags": []
   },
   "outputs": [],
   "source": [
    "# trainer.fit(model, train_loader, val_loader)"
   ]
  },
  {
   "cell_type": "code",
   "execution_count": null,
   "id": "614e78b3",
   "metadata": {
    "papermill": {
     "duration": 0.023457,
     "end_time": "2025-09-18T18:32:47.088431",
     "exception": false,
     "start_time": "2025-09-18T18:32:47.064974",
     "status": "completed"
    },
    "tags": []
   },
   "outputs": [],
   "source": []
  }
 ],
 "metadata": {
  "kaggle": {
   "accelerator": "nvidiaTeslaT4",
   "dataSources": [
    {
     "datasetId": 765495,
     "sourceId": 1320407,
     "sourceType": "datasetVersion"
    },
    {
     "datasetId": 765515,
     "sourceId": 1320435,
     "sourceType": "datasetVersion"
    },
    {
     "datasetId": 765573,
     "sourceId": 1320513,
     "sourceType": "datasetVersion"
    },
    {
     "datasetId": 765598,
     "sourceId": 1320696,
     "sourceType": "datasetVersion"
    },
    {
     "datasetId": 8289436,
     "sourceId": 13087447,
     "sourceType": "datasetVersion"
    },
    {
     "datasetId": 8296859,
     "sourceId": 13098218,
     "sourceType": "datasetVersion"
    }
   ],
   "dockerImageVersionId": 31090,
   "isGpuEnabled": true,
   "isInternetEnabled": true,
   "language": "python",
   "sourceType": "notebook"
  },
  "kernelspec": {
   "display_name": "Python 3",
   "language": "python",
   "name": "python3"
  },
  "language_info": {
   "codemirror_mode": {
    "name": "ipython",
    "version": 3
   },
   "file_extension": ".py",
   "mimetype": "text/x-python",
   "name": "python",
   "nbconvert_exporter": "python",
   "pygments_lexer": "ipython3",
   "version": "3.11.13"
  },
  "papermill": {
   "default_parameters": {},
   "duration": 229.626836,
   "end_time": "2025-09-18T18:32:49.831207",
   "environment_variables": {},
   "exception": null,
   "input_path": "__notebook__.ipynb",
   "output_path": "__notebook__.ipynb",
   "parameters": {},
   "start_time": "2025-09-18T18:29:00.204371",
   "version": "2.6.0"
  }
 },
 "nbformat": 4,
 "nbformat_minor": 5
}
